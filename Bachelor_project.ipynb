{
 "cells": [
  {
   "cell_type": "code",
   "execution_count": 1,
   "metadata": {},
   "outputs": [],
   "source": [
    "import numpy as np\n",
    "import matplotlib.pyplot as plt\n",
    "\n",
    "from qiskit import QuantumCircuit\n",
    "from qiskit.extensions import UnitaryGate\n",
    "from qiskit.quantum_info import Statevector\n",
    "from qiskit.circuit.library import QFT\n",
    "from qiskit import Aer\n",
    "from qiskit import transpile\n",
    "from qiskit.visualization import plot_histogram\n",
    "\n",
    "from iminuit import Minuit \n",
    "import sys "
   ]
  },
  {
   "cell_type": "code",
   "execution_count": 2,
   "metadata": {},
   "outputs": [],
   "source": [
    "from ExternalFunctions import UnbinnedLH, BinnedLH, Chi2Regression\n",
    "from ExternalFunctions import nice_string_output, add_text_to_ax \n",
    "from ExternalFunctions import bin_and_fit_gauss"
   ]
  },
  {
   "cell_type": "code",
   "execution_count": 3,
   "metadata": {},
   "outputs": [],
   "source": [
    "def make_Q(A):\n",
    "    frob_norm = np.linalg.norm(A, 'fro') \n",
    "    m = len(A)\n",
    "    n = len(A[0])\n",
    "    \n",
    "    B = np.zeros(((m*n),n))\n",
    "    \n",
    "    matrix_list = []\n",
    "    for count, value in enumerate(A, start = 0):\n",
    "        f_norm = np.linalg.norm(value)\n",
    "        diag_vec = np.full((n), f_norm)\n",
    "        diag_matrix = np.diag(diag_vec, 0)\n",
    "        matrix_list.append(diag_matrix)\n",
    "    \n",
    "    Q = np.concatenate(matrix_list)\n",
    "    Q_norm = Q/frob_norm\n",
    "    return Q_norm"
   ]
  },
  {
   "cell_type": "code",
   "execution_count": 4,
   "metadata": {},
   "outputs": [],
   "source": [
    "def make_P(A):\n",
    "    N = len(A)\n",
    "    \n",
    "    vector_list = []\n",
    "    for i, row in enumerate(A):\n",
    "        e = np.zeros((N,))\n",
    "        e[i] = 1\n",
    "        column_vec = np.kron(e, row)\n",
    "        norm = np.linalg.norm(row)\n",
    "        norm_column_vec = column_vec/norm\n",
    "        vector_list.append(norm_column_vec)\n",
    "    P = np.column_stack(vector_list)\n",
    "    return P"
   ]
  },
  {
   "cell_type": "code",
   "execution_count": 5,
   "metadata": {},
   "outputs": [],
   "source": [
    "def make_W(m, n, Q, P):\n",
    "    U = 2 * np.matmul(P, P.T) - np.identity(m*n)\n",
    "    V = 2 * np.matmul(Q, Q.T) - np.identity(m*n) \n",
    "    W = np.matmul(U, V) # is this supposed to be matmul, if it isn´t, then I don´t get a unitary matrix.\n",
    "    return W"
   ]
  },
  {
   "cell_type": "code",
   "execution_count": 6,
   "metadata": {},
   "outputs": [],
   "source": [
    "def binaryToDecimal(n):\n",
    "    return int(n,2)\n",
    "\n",
    "def dec_to_theta(x, n):\n",
    "    return x / (2**n)\n",
    "\n",
    "def binary_to_sigma(A, x, n):\n",
    "    \n",
    "    \"\"\"Converts the binary output from Phase estimation, into a sigma value\"\"\"\n",
    "    \n",
    "    frob_norm = np.linalg.norm(A, 'fro')\n",
    "    \n",
    "    dec = binaryToDecimal(x)\n",
    "    \n",
    "    theta = dec_to_theta(dec, n)\n",
    "    \n",
    "    return np.cos(theta/2) * frob_norm"
   ]
  },
  {
   "cell_type": "code",
   "execution_count": 7,
   "metadata": {},
   "outputs": [],
   "source": [
    "def make_circuit_and_draw(A, selected_row, qr, cr, draw = False):\n",
    "    \"\"\"Create a circuit in qiskit from a matrix A\n",
    "    Selected_row: The row that is used as the eigenvector\n",
    "    \n",
    "    qr: Number quantum-register\n",
    "    \n",
    "    Cr: Number of classical registers, which doubles as the amount of controlled unitary gates\n",
    "    \"\"\"\n",
    "    \n",
    "    arr = np.array(A)\n",
    "    row_sums = (arr.sum(axis = 1))\n",
    "\n",
    "    initialize_qubits = list(range(cr, qr))\n",
    "\n",
    "\n",
    "    # making circuit\n",
    "\n",
    "    Q = make_Q(A)\n",
    "    P = make_P(A)\n",
    "    Qx = Q.dot(A[selected_row]) / np.sqrt(row_sums[selected_row]) # remeber we count from 0\n",
    "\n",
    "    ### cheking amplitude\n",
    "\n",
    "    amplitudes = []\n",
    "\n",
    "    for i in Qx:\n",
    "        amplitudes.append(i**2)\n",
    "    print(\"Sum of amplitudes\",np.sum(amplitudes))\n",
    "\n",
    "    ###\n",
    "\n",
    "    W = make_W(len(A), len(A[0]), Q, P)\n",
    "    \n",
    "    \n",
    "    ### making gate for controlled unitary\n",
    "    \n",
    "    gate = UnitaryGate(W)\n",
    "    W_circuit = QuantumCircuit(4)\n",
    "    W_circuit.append(gate, [0, 1, 2, 3])\n",
    "    \n",
    "    controlled_circuit = W_circuit.control()\n",
    "    \n",
    "    #### \n",
    "    \n",
    "    \n",
    "    ### creating gate the initializes the state vector. \n",
    "    \n",
    "    Qx_eigenvector = Statevector(Qx)\n",
    "    \n",
    "    \n",
    "    circuit = QuantumCircuit(qr, cr)\n",
    "    \n",
    "    for qubit in range(cr):\n",
    "        circuit.h(qubit)\n",
    "    Qx_eigenvector = Statevector(Qx)\n",
    "    circuit.initialize(Qx_eigenvector, initialize_qubits)\n",
    "    circuit.draw(\"mpl\")\n",
    "    \n",
    "    gate = UnitaryGate(W)\n",
    "    \n",
    "    controlled_unitary = gate.control()\n",
    "\n",
    "    repetitions = 1\n",
    "    for counting_qubit in range(cr):\n",
    "        for i in range(repetitions):\n",
    "            liste = [counting_qubit]\n",
    "            liste.extend(initialize_qubits)\n",
    "            circuit.append(controlled_circuit, liste); \n",
    "        repetitions *= 2\n",
    "\n",
    "    circuit.barrier()\n",
    "    circuit = circuit.compose(QFT(cr, inverse=True), list(range(cr)))\n",
    "    circuit.barrier()\n",
    "\n",
    "    for n in range(cr):\n",
    "        circuit.measure(n,n)\n",
    "    \n",
    "    if draw:\n",
    "        circuit.draw(\"mpl\")\n",
    "    \n",
    "    return circuit"
   ]
  },
  {
   "cell_type": "code",
   "execution_count": 8,
   "metadata": {},
   "outputs": [],
   "source": [
    "def run_circuit(circuit, shots):\n",
    "    \"\"\"Runs the circuit on the Aer simulator. At the time of writing this, \n",
    "    qiskit has a bug that doubles the number of shots one has written. \"\"\"\n",
    "    \n",
    "    \n",
    "    \n",
    "    simulator = Aer.get_backend('aer_simulator')\n",
    "    \n",
    "    compiled_circuit = transpile(circuit, simulator)\n",
    "    \n",
    "    job = simulator.run(compiled_circuit, shots = shots)\n",
    "    \n",
    "    result = job.result()\n",
    "    \n",
    "    counts = result.get_counts(circuit)\n",
    "    \n",
    "    highest_value = max(counts, key=counts.get)\n",
    "    \n",
    "    return counts, highest_value"
   ]
  },
  {
   "cell_type": "code",
   "execution_count": 9,
   "metadata": {},
   "outputs": [],
   "source": [
    "def create_random_array(rows, cols):\n",
    "    \"Creates a random matrix, A\"\n",
    "    array = np.zeros((rows, cols), dtype=int)\n",
    "    for i in range(rows):\n",
    "        num_ones = np.random.randint(1, cols + 1)  \n",
    "        col_indices = np.random.choice(cols, num_ones, replace=False)\n",
    "        array[i, col_indices] = 1\n",
    "    return array"
   ]
  },
  {
   "cell_type": "code",
   "execution_count": 10,
   "metadata": {},
   "outputs": [],
   "source": [
    "def trials(n, qr, cr, shots):\n",
    "    \"\"\"Draws and runs the circuits n times. \"\"\"\n",
    "    sigma_liste = []\n",
    "    A_liste = []\n",
    "    svd_liste = []\n",
    "    counts_liste = []\n",
    "    for i in range(n):\n",
    "        print(i)\n",
    "        A = create_random_array(4,4)\n",
    "        \n",
    "        A_liste.append(A)\n",
    "        svd = np.linalg.svd(A)\n",
    "        svd_liste.append(svd[1][0])\n",
    "\n",
    "        circuit = make_circuit_and_draw(A, 2, qr, cr, draw = False)\n",
    "        counts, high_value = run_circuit(circuit, shots)\n",
    "        counts_liste.append(counts)\n",
    "        \n",
    "        sigma = binary_to_sigma(A, high_value, cr)\n",
    "\n",
    "        sigma_liste.append(sigma)\n",
    "        \n",
    "        \n",
    "    return A_liste, svd_liste, sigma_liste, counts_liste"
   ]
  },
  {
   "cell_type": "code",
   "execution_count": 11,
   "metadata": {},
   "outputs": [],
   "source": [
    "def compare_sigma(sigma_liste, svd_liste):\n",
    "    \"\"\"Compares the sigma value from the quantum circuit, and the sigma calculated from a regular svd calculation \"\"\"\n",
    "    compared_sigma = []\n",
    "    for i in range(len(sigma_liste)):\n",
    "        compared_sigma.append(sigma_liste[i]/svd_liste[i])\n",
    "    return compared_sigma"
   ]
  },
  {
   "cell_type": "code",
   "execution_count": 12,
   "metadata": {},
   "outputs": [
    {
     "name": "stdout",
     "output_type": "stream",
     "text": [
      "0\n",
      "Sum of amplitudes 1.0\n",
      "1\n",
      "Sum of amplitudes 0.9999999999999998\n"
     ]
    }
   ],
   "source": [
    "A, svd, sigma, counts = trials(2, 7, 3, shots = 512)"
   ]
  },
  {
   "cell_type": "code",
   "execution_count": 13,
   "metadata": {},
   "outputs": [],
   "source": [
    "sigma_diff = compare_sigma(sigma, svd)"
   ]
  },
  {
   "cell_type": "code",
   "execution_count": 14,
   "metadata": {},
   "outputs": [
    {
     "data": {
      "text/plain": [
       "(array([1., 0., 0., 0., 0., 0., 0., 0., 0., 1.]),\n",
       " array([0.93050762, 0.94399197, 0.95747633, 0.97096068, 0.98444503,\n",
       "        0.99792938, 1.01141373, 1.02489809, 1.03838244, 1.05186679,\n",
       "        1.06535114]),\n",
       " <a list of 10 Patch objects>)"
      ]
     },
     "execution_count": 14,
     "metadata": {},
     "output_type": "execute_result"
    },
    {
     "data": {
      "image/png": "[encoded data removed]",
      "text/plain": [
       "<Figure size 432x288 with 1 Axes>"
      ]
     },
     "metadata": {
      "needs_background": "light"
     },
     "output_type": "display_data"
    }
   ],
   "source": [
    "plt.hist(sigma_diff)"
   ]
  },
  {
   "cell_type": "code",
   "execution_count": 15,
   "metadata": {},
   "outputs": [
    {
     "name": "stderr",
     "output_type": "stream",
     "text": [
      "The PostScript backend does not support transparency; partially transparent artists will be rendered opaque.\n",
      "The PostScript backend does not support transparency; partially transparent artists will be rendered opaque.\n"
     ]
    },
    {
     "name": "stdout",
     "output_type": "stream",
     "text": [
      "Fit value: mu = 9.62089 +/- 12.93402\n",
      "Fit value: sigma = 3.78240 +/- 8.14383\n",
      "Fit value: N = 127.61176 +/- 1325.70856\n",
      "Chi2 value: 0.0   Ndof = -1    Prob(Chi2,Ndof) =   nan\n"
     ]
    },
    {
     "data": {
      "image/png": "[encoded data removed]",
      "text/plain": [
       "<Figure size 1008x576 with 1 Axes>"
      ]
     },
     "metadata": {
      "needs_background": "light"
     },
     "output_type": "display_data"
    }
   ],
   "source": [
    "bin_and_fit_gauss(sigma_diff, \"Sigma_diff_fit\", 1.0, 0.1, 10, 30, 0.85, 1.4) "
   ]
  },
  {
   "cell_type": "code",
   "execution_count": null,
   "metadata": {},
   "outputs": [],
   "source": []
  }
 ],
 "metadata": {
  "kernelspec": {
   "display_name": "Python 3",
   "language": "python",
   "name": "python3"
  },
  "language_info": {
   "codemirror_mode": {
    "name": "ipython",
    "version": 3
   },
   "file_extension": ".py",
   "mimetype": "text/x-python",
   "name": "python",
   "nbconvert_exporter": "python",
   "pygments_lexer": "ipython3",
   "version": "3.8.3"
  }
 },
 "nbformat": 4,
 "nbformat_minor": 4
}
